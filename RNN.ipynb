{
  "nbformat": 4,
  "nbformat_minor": 0,
  "metadata": {
    "colab": {
      "provenance": []
    },
    "kernelspec": {
      "name": "python3",
      "display_name": "Python 3"
    },
    "language_info": {
      "name": "python"
    }
  },
  "cells": [
    {
      "cell_type": "code",
      "execution_count": 14,
      "metadata": {
        "id": "GE33ze4SZAX2"
      },
      "outputs": [],
      "source": [
        "import numpy as np\n",
        "import matplotlib.pyplot as plt\n",
        "from sklearn import preprocessing\n",
        "from sklearn.model_selection import train_test_split\n",
        "from tensorflow.keras.models import Sequential\n",
        "from tensorflow.keras.layers import Dense, LSTM"
      ]
    },
    {
      "cell_type": "code",
      "source": [
        "x1 = np.zeros(101)\n",
        "x2 = np.zeros(101)\n",
        "y = np.zeros(101)\n",
        "\n",
        "# Initial conditions\n",
        "x1[0] = 1\n",
        "x2[0] = 1\n",
        "\n",
        "# Perform the iteration\n",
        "for k in range(100):\n",
        "    x1[k+1] = x2[k] + 1 - 1.4*x1[k]**2\n",
        "    x2[k+1] = 0.3*x1[k]\n",
        "    y[k] = x1[k]"
      ],
      "metadata": {
        "id": "FMCFb070bxds"
      },
      "execution_count": 4,
      "outputs": []
    },
    {
      "cell_type": "code",
      "source": [
        "x = np.column_stack((x1, x2))"
      ],
      "metadata": {
        "id": "S17WmUKFb1Pa"
      },
      "execution_count": 5,
      "outputs": []
    },
    {
      "cell_type": "code",
      "source": [
        "x = x.reshape(-1, 1, 2)\n",
        "y = y.reshape(-1, 1, 1)\n",
        "\n",
        "print(x.shape)\n",
        "print(y.shape)\n",
        "\n",
        "RNN_input = x\n",
        "RNN_output = y\n"
      ],
      "metadata": {
        "colab": {
          "base_uri": "https://localhost:8080/"
        },
        "id": "b85awA6WdYHB",
        "outputId": "3656472e-8cbd-4821-8a40-d2bc72744e79"
      },
      "execution_count": 31,
      "outputs": [
        {
          "output_type": "stream",
          "name": "stdout",
          "text": [
            "(101, 1, 2)\n",
            "(101, 1, 1)\n"
          ]
        }
      ]
    },
    {
      "cell_type": "code",
      "source": [
        "scaler_X = preprocessing.StandardScaler().fit(RNN_input.reshape(-1, 2))\n",
        "scaler_y = preprocessing.StandardScaler().fit(RNN_output.reshape(-1, 1))\n",
        "\n",
        "RNN_input = scaler_X.transform(RNN_input.reshape(-1, 2)).reshape(-1, 1, 2)\n",
        "RNN_output = scaler_y.transform(RNN_output.reshape(-1, 1)).reshape(-1, 1, 1)\n",
        "\n",
        "\n",
        "print(RNN_input.shape)\n",
        "print(RNN_output.shape)\n",
        "\n",
        "X_train, X_test, y_train, y_test = train_test_split(RNN_input, RNN_output, test_size=0.3, random_state=123)\n",
        "\n"
      ],
      "metadata": {
        "colab": {
          "base_uri": "https://localhost:8080/"
        },
        "id": "9M6FpzSsde1m",
        "outputId": "1c54bcf4-0bf9-4e59-e6c7-b1b94a891836"
      },
      "execution_count": 34,
      "outputs": [
        {
          "output_type": "stream",
          "name": "stdout",
          "text": [
            "(101, 1, 2)\n",
            "(101, 1, 1)\n"
          ]
        }
      ]
    },
    {
      "cell_type": "code",
      "source": [
        "model = Sequential()\n",
        "model.add(LSTM(128, activation='tanh', return_sequences=True, input_shape=(1, 2))) #RNN \n" ,
        "model.add(LSTM(64, activation='tanh', return_sequences=True)) #RNN \n" ,
        "model.add(Dense(1, activation='linear'))\n",
        "model.compile(optimizer='adam', loss='mean_squared_error')\n",
        "history = model.fit(X_train, y_train, epochs=100, batch_size=256, validation_split=0.1, verbose=2)\n",
        "\n",
        "\n",
        "loss = history.history['loss']\n",
        "val_loss = history.history['val_loss']\n",
        "epochs = range(1, len(loss) + 1)\n",
        "plt.plot(epochs, loss, 'r', label='Training loss')\n",
        "plt.plot(epochs, val_loss, 'b', label='Validation loss')\n",
        "plt.title('Training and validation loss')\n",
        "plt.xlabel(\"epoch\")\n",
        "plt.ylabel(\"loss\")\n",
        "plt.legend()\n",
        "plt.show()"
      ],
      "metadata": {
        "colab": {
          "base_uri": "https://localhost:8080/",
          "height": 1000
        },
        "id": "MLYbbFsceOy7",
        "outputId": "c20339c2-530d-422f-b2bb-8905f8635902"
      },
      "execution_count": 36,
      "outputs": [
        {
          "output_type": "stream",
          "name": "stdout",
          "text": [
            "Epoch 1/100\n"
          ]
        },
        {
          "output_type": "stream",
          "name": "stderr",
          "text": [
            "/usr/local/lib/python3.10/dist-packages/keras/src/layers/rnn/rnn.py:204: UserWarning: Do not pass an `input_shape`/`input_dim` argument to a layer. When using Sequential models, prefer using an `Input(shape)` object as the first layer in the model instead.\n",
            "  super().__init__(**kwargs)\n"
          ]
        },
        {
          "output_type": "stream",
          "name": "stdout",
          "text": [
            "1/1 - 4s - 4s/step - loss: 0.8128 - val_loss: 0.6619\n",
            "Epoch 2/100\n",
            "1/1 - 0s - 78ms/step - loss: 0.8030 - val_loss: 0.6543\n",
            "Epoch 3/100\n",
            "1/1 - 0s - 96ms/step - loss: 0.7933 - val_loss: 0.6468\n",
            "Epoch 4/100\n",
            "1/1 - 0s - 112ms/step - loss: 0.7837 - val_loss: 0.6393\n",
            "Epoch 5/100\n",
            "1/1 - 0s - 101ms/step - loss: 0.7741 - val_loss: 0.6317\n",
            "Epoch 6/100\n",
            "1/1 - 0s - 137ms/step - loss: 0.7645 - val_loss: 0.6239\n",
            "Epoch 7/100\n",
            "1/1 - 0s - 139ms/step - loss: 0.7548 - val_loss: 0.6161\n",
            "Epoch 8/100\n",
            "1/1 - 0s - 121ms/step - loss: 0.7450 - val_loss: 0.6080\n",
            "Epoch 9/100\n",
            "1/1 - 0s - 147ms/step - loss: 0.7351 - val_loss: 0.5996\n",
            "Epoch 10/100\n",
            "1/1 - 0s - 306ms/step - loss: 0.7250 - val_loss: 0.5909\n",
            "Epoch 11/100\n",
            "1/1 - 0s - 308ms/step - loss: 0.7147 - val_loss: 0.5818\n",
            "Epoch 12/100\n",
            "1/1 - 0s - 107ms/step - loss: 0.7041 - val_loss: 0.5722\n",
            "Epoch 13/100\n",
            "1/1 - 0s - 120ms/step - loss: 0.6933 - val_loss: 0.5622\n",
            "Epoch 14/100\n",
            "1/1 - 0s - 139ms/step - loss: 0.6821 - val_loss: 0.5516\n",
            "Epoch 15/100\n",
            "1/1 - 0s - 140ms/step - loss: 0.6705 - val_loss: 0.5404\n",
            "Epoch 16/100\n",
            "1/1 - 0s - 145ms/step - loss: 0.6586 - val_loss: 0.5285\n",
            "Epoch 17/100\n",
            "1/1 - 0s - 170ms/step - loss: 0.6462 - val_loss: 0.5161\n",
            "Epoch 18/100\n",
            "1/1 - 0s - 101ms/step - loss: 0.6334 - val_loss: 0.5029\n",
            "Epoch 19/100\n",
            "1/1 - 0s - 133ms/step - loss: 0.6201 - val_loss: 0.4891\n",
            "Epoch 20/100\n",
            "1/1 - 0s - 142ms/step - loss: 0.6063 - val_loss: 0.4746\n",
            "Epoch 21/100\n",
            "1/1 - 0s - 162ms/step - loss: 0.5920 - val_loss: 0.4594\n",
            "Epoch 22/100\n",
            "1/1 - 0s - 78ms/step - loss: 0.5771 - val_loss: 0.4435\n",
            "Epoch 23/100\n",
            "1/1 - 0s - 170ms/step - loss: 0.5618 - val_loss: 0.4269\n",
            "Epoch 24/100\n",
            "1/1 - 0s - 107ms/step - loss: 0.5458 - val_loss: 0.4097\n",
            "Epoch 25/100\n",
            "1/1 - 0s - 139ms/step - loss: 0.5294 - val_loss: 0.3919\n",
            "Epoch 26/100\n",
            "1/1 - 0s - 139ms/step - loss: 0.5125 - val_loss: 0.3735\n",
            "Epoch 27/100\n",
            "1/1 - 0s - 88ms/step - loss: 0.4950 - val_loss: 0.3545\n",
            "Epoch 28/100\n",
            "1/1 - 0s - 127ms/step - loss: 0.4770 - val_loss: 0.3351\n",
            "Epoch 29/100\n",
            "1/1 - 0s - 60ms/step - loss: 0.4586 - val_loss: 0.3153\n",
            "Epoch 30/100\n",
            "1/1 - 0s - 57ms/step - loss: 0.4398 - val_loss: 0.2951\n",
            "Epoch 31/100\n",
            "1/1 - 0s - 50ms/step - loss: 0.4207 - val_loss: 0.2746\n",
            "Epoch 32/100\n",
            "1/1 - 0s - 50ms/step - loss: 0.4012 - val_loss: 0.2540\n",
            "Epoch 33/100\n",
            "1/1 - 0s - 53ms/step - loss: 0.3814 - val_loss: 0.2334\n",
            "Epoch 34/100\n",
            "1/1 - 0s - 65ms/step - loss: 0.3616 - val_loss: 0.2128\n",
            "Epoch 35/100\n",
            "1/1 - 0s - 129ms/step - loss: 0.3416 - val_loss: 0.1924\n",
            "Epoch 36/100\n",
            "1/1 - 0s - 55ms/step - loss: 0.3217 - val_loss: 0.1724\n",
            "Epoch 37/100\n",
            "1/1 - 0s - 56ms/step - loss: 0.3019 - val_loss: 0.1529\n",
            "Epoch 38/100\n",
            "1/1 - 0s - 51ms/step - loss: 0.2824 - val_loss: 0.1341\n",
            "Epoch 39/100\n",
            "1/1 - 0s - 58ms/step - loss: 0.2633 - val_loss: 0.1162\n",
            "Epoch 40/100\n",
            "1/1 - 0s - 50ms/step - loss: 0.2447 - val_loss: 0.0994\n",
            "Epoch 41/100\n",
            "1/1 - 0s - 61ms/step - loss: 0.2268 - val_loss: 0.0837\n",
            "Epoch 42/100\n",
            "1/1 - 0s - 53ms/step - loss: 0.2098 - val_loss: 0.0695\n",
            "Epoch 43/100\n",
            "1/1 - 0s - 50ms/step - loss: 0.1937 - val_loss: 0.0569\n",
            "Epoch 44/100\n",
            "1/1 - 0s - 60ms/step - loss: 0.1787 - val_loss: 0.0459\n",
            "Epoch 45/100\n",
            "1/1 - 0s - 51ms/step - loss: 0.1649 - val_loss: 0.0368\n",
            "Epoch 46/100\n",
            "1/1 - 0s - 51ms/step - loss: 0.1524 - val_loss: 0.0294\n",
            "Epoch 47/100\n",
            "1/1 - 0s - 53ms/step - loss: 0.1412 - val_loss: 0.0238\n",
            "Epoch 48/100\n",
            "1/1 - 0s - 57ms/step - loss: 0.1313 - val_loss: 0.0199\n",
            "Epoch 49/100\n",
            "1/1 - 0s - 53ms/step - loss: 0.1226 - val_loss: 0.0175\n",
            "Epoch 50/100\n",
            "1/1 - 0s - 141ms/step - loss: 0.1152 - val_loss: 0.0164\n",
            "Epoch 51/100\n",
            "1/1 - 0s - 51ms/step - loss: 0.1087 - val_loss: 0.0164\n",
            "Epoch 52/100\n",
            "1/1 - 0s - 49ms/step - loss: 0.1031 - val_loss: 0.0171\n",
            "Epoch 53/100\n",
            "1/1 - 0s - 60ms/step - loss: 0.0983 - val_loss: 0.0183\n",
            "Epoch 54/100\n",
            "1/1 - 0s - 64ms/step - loss: 0.0940 - val_loss: 0.0197\n",
            "Epoch 55/100\n",
            "1/1 - 0s - 51ms/step - loss: 0.0901 - val_loss: 0.0212\n",
            "Epoch 56/100\n",
            "1/1 - 0s - 60ms/step - loss: 0.0865 - val_loss: 0.0226\n",
            "Epoch 57/100\n",
            "1/1 - 0s - 58ms/step - loss: 0.0830 - val_loss: 0.0237\n",
            "Epoch 58/100\n",
            "1/1 - 0s - 54ms/step - loss: 0.0795 - val_loss: 0.0244\n",
            "Epoch 59/100\n",
            "1/1 - 0s - 53ms/step - loss: 0.0759 - val_loss: 0.0246\n",
            "Epoch 60/100\n",
            "1/1 - 0s - 53ms/step - loss: 0.0721 - val_loss: 0.0245\n",
            "Epoch 61/100\n",
            "1/1 - 0s - 63ms/step - loss: 0.0681 - val_loss: 0.0238\n",
            "Epoch 62/100\n",
            "1/1 - 0s - 50ms/step - loss: 0.0640 - val_loss: 0.0228\n",
            "Epoch 63/100\n",
            "1/1 - 0s - 57ms/step - loss: 0.0597 - val_loss: 0.0214\n",
            "Epoch 64/100\n",
            "1/1 - 0s - 51ms/step - loss: 0.0553 - val_loss: 0.0198\n",
            "Epoch 65/100\n",
            "1/1 - 0s - 67ms/step - loss: 0.0509 - val_loss: 0.0180\n",
            "Epoch 66/100\n",
            "1/1 - 0s - 67ms/step - loss: 0.0465 - val_loss: 0.0162\n",
            "Epoch 67/100\n",
            "1/1 - 0s - 129ms/step - loss: 0.0423 - val_loss: 0.0143\n",
            "Epoch 68/100\n",
            "1/1 - 0s - 69ms/step - loss: 0.0383 - val_loss: 0.0125\n",
            "Epoch 69/100\n",
            "1/1 - 0s - 53ms/step - loss: 0.0346 - val_loss: 0.0108\n",
            "Epoch 70/100\n",
            "1/1 - 0s - 57ms/step - loss: 0.0312 - val_loss: 0.0092\n",
            "Epoch 71/100\n",
            "1/1 - 0s - 60ms/step - loss: 0.0281 - val_loss: 0.0078\n",
            "Epoch 72/100\n",
            "1/1 - 0s - 64ms/step - loss: 0.0253 - val_loss: 0.0065\n",
            "Epoch 73/100\n",
            "1/1 - 0s - 52ms/step - loss: 0.0229 - val_loss: 0.0054\n",
            "Epoch 74/100\n",
            "1/1 - 0s - 64ms/step - loss: 0.0208 - val_loss: 0.0045\n",
            "Epoch 75/100\n",
            "1/1 - 0s - 53ms/step - loss: 0.0189 - val_loss: 0.0037\n",
            "Epoch 76/100\n",
            "1/1 - 0s - 51ms/step - loss: 0.0172 - val_loss: 0.0030\n",
            "Epoch 77/100\n",
            "1/1 - 0s - 51ms/step - loss: 0.0158 - val_loss: 0.0025\n",
            "Epoch 78/100\n",
            "1/1 - 0s - 60ms/step - loss: 0.0146 - val_loss: 0.0020\n",
            "Epoch 79/100\n",
            "1/1 - 0s - 56ms/step - loss: 0.0135 - val_loss: 0.0016\n",
            "Epoch 80/100\n",
            "1/1 - 0s - 69ms/step - loss: 0.0126 - val_loss: 0.0014\n",
            "Epoch 81/100\n",
            "1/1 - 0s - 129ms/step - loss: 0.0118 - val_loss: 0.0011\n",
            "Epoch 82/100\n",
            "1/1 - 0s - 52ms/step - loss: 0.0112 - val_loss: 9.8544e-04\n",
            "Epoch 83/100\n",
            "1/1 - 0s - 64ms/step - loss: 0.0106 - val_loss: 8.6824e-04\n",
            "Epoch 84/100\n",
            "1/1 - 0s - 53ms/step - loss: 0.0101 - val_loss: 7.8927e-04\n",
            "Epoch 85/100\n",
            "1/1 - 0s - 61ms/step - loss: 0.0097 - val_loss: 7.4549e-04\n",
            "Epoch 86/100\n",
            "1/1 - 0s - 51ms/step - loss: 0.0093 - val_loss: 7.3638e-04\n",
            "Epoch 87/100\n",
            "1/1 - 0s - 54ms/step - loss: 0.0090 - val_loss: 7.6277e-04\n",
            "Epoch 88/100\n",
            "1/1 - 0s - 57ms/step - loss: 0.0088 - val_loss: 8.2511e-04\n",
            "Epoch 89/100\n",
            "1/1 - 0s - 57ms/step - loss: 0.0086 - val_loss: 9.2196e-04\n",
            "Epoch 90/100\n",
            "1/1 - 0s - 52ms/step - loss: 0.0084 - val_loss: 0.0010\n",
            "Epoch 91/100\n",
            "1/1 - 0s - 50ms/step - loss: 0.0083 - val_loss: 0.0012\n",
            "Epoch 92/100\n",
            "1/1 - 0s - 61ms/step - loss: 0.0083 - val_loss: 0.0014\n",
            "Epoch 93/100\n",
            "1/1 - 0s - 54ms/step - loss: 0.0083 - val_loss: 0.0015\n",
            "Epoch 94/100\n",
            "1/1 - 0s - 50ms/step - loss: 0.0083 - val_loss: 0.0017\n",
            "Epoch 95/100\n",
            "1/1 - 0s - 65ms/step - loss: 0.0083 - val_loss: 0.0018\n",
            "Epoch 96/100\n",
            "1/1 - 0s - 67ms/step - loss: 0.0084 - val_loss: 0.0019\n",
            "Epoch 97/100\n",
            "1/1 - 0s - 127ms/step - loss: 0.0084 - val_loss: 0.0020\n",
            "Epoch 98/100\n",
            "1/1 - 0s - 51ms/step - loss: 0.0084 - val_loss: 0.0020\n",
            "Epoch 99/100\n",
            "1/1 - 0s - 63ms/step - loss: 0.0085 - val_loss: 0.0020\n",
            "Epoch 100/100\n",
            "1/1 - 0s - 51ms/step - loss: 0.0085 - val_loss: 0.0020\n"
          ]
        },
        {
          "output_type": "display_data",
          "data": {
            "text/plain": [
              "<Figure size 640x480 with 1 Axes>"
            ],
            "image/png": "[encoded data removed]"
          },
          "metadata": {}
        }
      ]
    },
    {
      "cell_type": "code",
      "source": [
        "print(model.evaluate(X_test,y_test))\n"
      ],
      "metadata": {
        "id": "BrLGv4GmhDOw",
        "outputId": "757fbbd4-04e6-4816-c0dd-0bdd773f2b70",
        "colab": {
          "base_uri": "https://localhost:8080/"
        }
      },
      "execution_count": 37,
      "outputs": [
        {
          "output_type": "stream",
          "name": "stdout",
          "text": [
            "\u001b[1m1/1\u001b[0m \u001b[32m━━━━━━━━━━━━━━━━━━━━\u001b[0m\u001b[37m\u001b[0m \u001b[1m0s\u001b[0m 29ms/step - loss: 0.0120\n",
            "0.01198193896561861\n"
          ]
        }
      ]
    },
    {
      "cell_type": "code",
      "source": [],
      "metadata": {
        "id": "5gZV-uM2hNMh"
      },
      "execution_count": null,
      "outputs": []
    }
  ]
}
